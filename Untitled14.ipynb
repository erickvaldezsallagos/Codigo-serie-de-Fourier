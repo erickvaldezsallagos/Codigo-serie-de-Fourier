{
  "nbformat": 4,
  "nbformat_minor": 0,
  "metadata": {
    "colab": {
      "provenance": [],
      "authorship_tag": "ABX9TyP3BuIhfYTebij7p8vB5t39",
      "include_colab_link": true
    },
    "kernelspec": {
      "name": "python3",
      "display_name": "Python 3"
    },
    "language_info": {
      "name": "python"
    }
  },
  "cells": [
    {
      "cell_type": "markdown",
      "metadata": {
        "id": "view-in-github",
        "colab_type": "text"
      },
      "source": [
        "<a href=\"https://colab.research.google.com/github/erickvaldezsallagos/Codigo-serie-de-Fourier/blob/main/Untitled14.ipynb\" target=\"_parent\"><img src=\"https://colab.research.google.com/assets/colab-badge.svg\" alt=\"Open In Colab\"/></a>"
      ]
    },
    {
      "cell_type": "code",
      "execution_count": null,
      "metadata": {
        "id": "vmxeroquXxm5"
      },
      "outputs": [],
      "source": []
    },
    {
      "cell_type": "markdown",
      "source": [
        "$$ \\frac{∂^2u}{∂t^2}=c^2(\\frac{\\partial^2 u}{∂x^2}+ \\frac{∂^2 u}{∂y^2})$$\n",
        "que satisfaga la condicion en la frontera\n",
        "$$u=0$$ en la frontera de la membrana para todo t mayor o igual a 0\n",
        "\n",
        "CI.\n",
        "$$u(x,y,0)=f(x,y)$$ [dado el desplazamiento inicial f(x, y)]\n",
        "$$\\frac{∂u}{∂t}=g(x, y)$$ (evaluada en t=0)"
      ],
      "metadata": {
        "id": "1J2QoWGBXz2y"
      }
    },
    {
      "cell_type": "markdown",
      "source": [
        "Solucion:"
      ],
      "metadata": {
        "id": "4OrvBgCHbQif"
      }
    },
    {
      "cell_type": "markdown",
      "source": [
        "Por separacion de variables\n",
        "$$U(x,y,t)=X(x)Y(y)T(t)$$\n",
        "Sustituimos en la ecuacion de onda\n",
        "$$X(x)Y(y)T'(t)=c^2 (X''(x)Y(y)T(t)+X(x)Y´´(y)T(t))$$\n",
        "\n",
        "Dividimos entre $$X(x)Y(y)T(t):$$\n",
        "$$\\frac{X´´(x)}{X(x)}=-\\lambda_x$$\n",
        "$$\\frac{Y´´(y)}{Y(y)}=-\\lambda_y$$\n",
        "\n",
        "Para X(x):\n",
        "$$X''+λ_x X=0$$\n",
        "$$⟶X_m(x)=sen\\frac({mπx}{a}), \\lambda_x=(\\frac{m\\pi}{a})$$"
      ],
      "metadata": {
        "id": "bLPgjDTgeIFL"
      }
    }
  ]
}